{
 "cells": [
  {
   "cell_type": "code",
   "execution_count": 1,
   "metadata": {},
   "outputs": [],
   "source": [
    "import tensorflow as tf\n",
    "import numpy as np"
   ]
  },
  {
   "cell_type": "code",
   "execution_count": 2,
   "metadata": {},
   "outputs": [],
   "source": [
    "a = np.arange(48).reshape(3, 4, 4, 1)"
   ]
  },
  {
   "cell_type": "code",
   "execution_count": 6,
   "metadata": {},
   "outputs": [
    {
     "data": {
      "text/plain": [
       "<tf.Tensor: shape=(3, 4, 4, 1), dtype=float32, numpy=\n",
       "array([[[[ 0.],\n",
       "         [ 1.],\n",
       "         [ 2.],\n",
       "         [ 3.]],\n",
       "\n",
       "        [[ 4.],\n",
       "         [ 5.],\n",
       "         [ 6.],\n",
       "         [ 7.]],\n",
       "\n",
       "        [[ 8.],\n",
       "         [ 9.],\n",
       "         [10.],\n",
       "         [11.]],\n",
       "\n",
       "        [[12.],\n",
       "         [13.],\n",
       "         [14.],\n",
       "         [15.]]],\n",
       "\n",
       "\n",
       "       [[[16.],\n",
       "         [17.],\n",
       "         [18.],\n",
       "         [19.]],\n",
       "\n",
       "        [[20.],\n",
       "         [21.],\n",
       "         [22.],\n",
       "         [23.]],\n",
       "\n",
       "        [[24.],\n",
       "         [25.],\n",
       "         [26.],\n",
       "         [27.]],\n",
       "\n",
       "        [[28.],\n",
       "         [29.],\n",
       "         [30.],\n",
       "         [31.]]],\n",
       "\n",
       "\n",
       "       [[[32.],\n",
       "         [33.],\n",
       "         [34.],\n",
       "         [35.]],\n",
       "\n",
       "        [[36.],\n",
       "         [37.],\n",
       "         [38.],\n",
       "         [39.]],\n",
       "\n",
       "        [[40.],\n",
       "         [41.],\n",
       "         [42.],\n",
       "         [43.]],\n",
       "\n",
       "        [[44.],\n",
       "         [45.],\n",
       "         [46.],\n",
       "         [47.]]]], dtype=float32)>"
      ]
     },
     "execution_count": 6,
     "metadata": {},
     "output_type": "execute_result"
    }
   ],
   "source": [
    "a = tf.convert_to_tensor(a, dtype=tf.float32)\n",
    "a"
   ]
  },
  {
   "cell_type": "code",
   "execution_count": 8,
   "metadata": {},
   "outputs": [
    {
     "data": {
      "text/plain": [
       "<tf.Tensor: shape=(3, 1), dtype=float32, numpy=\n",
       "array([[15.],\n",
       "       [31.],\n",
       "       [47.]], dtype=float32)>"
      ]
     },
     "execution_count": 8,
     "metadata": {},
     "output_type": "execute_result"
    }
   ],
   "source": [
    "tf.math.reduce_max(tf.math.reduce_max(a, axis=1), axis=1)"
   ]
  },
  {
   "cell_type": "code",
   "execution_count": null,
   "metadata": {},
   "outputs": [],
   "source": []
  }
 ],
 "metadata": {
  "kernelspec": {
   "display_name": "Python 3",
   "language": "python",
   "name": "python3"
  },
  "language_info": {
   "codemirror_mode": {
    "name": "ipython",
    "version": 3
   },
   "file_extension": ".py",
   "mimetype": "text/x-python",
   "name": "python",
   "nbconvert_exporter": "python",
   "pygments_lexer": "ipython3",
   "version": "3.7.2"
  }
 },
 "nbformat": 4,
 "nbformat_minor": 4
}
